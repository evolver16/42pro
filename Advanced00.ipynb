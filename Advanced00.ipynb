{
  "nbformat": 4,
  "nbformat_minor": 0,
  "metadata": {
    "colab": {
      "provenance": [],
      "include_colab_link": true
    },
    "kernelspec": {
      "name": "python3",
      "display_name": "Python 3"
    },
    "language_info": {
      "name": "python"
    }
  },
  "cells": [
    {
      "cell_type": "markdown",
      "metadata": {
        "id": "view-in-github",
        "colab_type": "text"
      },
      "source": [
        "<a href=\"https://colab.research.google.com/github/evolver16/42pro/blob/main/Advanced00.ipynb\" target=\"_parent\"><img src=\"https://colab.research.google.com/assets/colab-badge.svg\" alt=\"Open In Colab\"/></a>"
      ]
    },
    {
      "cell_type": "code",
      "source": [
        "from google.colab import files\n",
        "uploaded = files.upload()"
      ],
      "metadata": {
        "id": "QEkqYFfTG8-I",
        "colab": {
          "base_uri": "https://localhost:8080/",
          "height": 71
        },
        "outputId": "a75f7320-3562-4d79-8e71-4ea06400f80e"
      },
      "execution_count": 135,
      "outputs": [
        {
          "output_type": "display_data",
          "data": {
            "text/plain": [
              "<IPython.core.display.HTML object>"
            ],
            "text/html": [
              "\n",
              "     <input type=\"file\" id=\"files-a8ae2ee5-125b-467d-b7ce-d034a50115b6\" name=\"files[]\" multiple disabled\n",
              "        style=\"border:none\" />\n",
              "     <output id=\"result-a8ae2ee5-125b-467d-b7ce-d034a50115b6\">\n",
              "      Upload widget is only available when the cell has been executed in the\n",
              "      current browser session. Please rerun this cell to enable.\n",
              "      </output>\n",
              "      <script>// Copyright 2017 Google LLC\n",
              "//\n",
              "// Licensed under the Apache License, Version 2.0 (the \"License\");\n",
              "// you may not use this file except in compliance with the License.\n",
              "// You may obtain a copy of the License at\n",
              "//\n",
              "//      http://www.apache.org/licenses/LICENSE-2.0\n",
              "//\n",
              "// Unless required by applicable law or agreed to in writing, software\n",
              "// distributed under the License is distributed on an \"AS IS\" BASIS,\n",
              "// WITHOUT WARRANTIES OR CONDITIONS OF ANY KIND, either express or implied.\n",
              "// See the License for the specific language governing permissions and\n",
              "// limitations under the License.\n",
              "\n",
              "/**\n",
              " * @fileoverview Helpers for google.colab Python module.\n",
              " */\n",
              "(function(scope) {\n",
              "function span(text, styleAttributes = {}) {\n",
              "  const element = document.createElement('span');\n",
              "  element.textContent = text;\n",
              "  for (const key of Object.keys(styleAttributes)) {\n",
              "    element.style[key] = styleAttributes[key];\n",
              "  }\n",
              "  return element;\n",
              "}\n",
              "\n",
              "// Max number of bytes which will be uploaded at a time.\n",
              "const MAX_PAYLOAD_SIZE = 100 * 1024;\n",
              "\n",
              "function _uploadFiles(inputId, outputId) {\n",
              "  const steps = uploadFilesStep(inputId, outputId);\n",
              "  const outputElement = document.getElementById(outputId);\n",
              "  // Cache steps on the outputElement to make it available for the next call\n",
              "  // to uploadFilesContinue from Python.\n",
              "  outputElement.steps = steps;\n",
              "\n",
              "  return _uploadFilesContinue(outputId);\n",
              "}\n",
              "\n",
              "// This is roughly an async generator (not supported in the browser yet),\n",
              "// where there are multiple asynchronous steps and the Python side is going\n",
              "// to poll for completion of each step.\n",
              "// This uses a Promise to block the python side on completion of each step,\n",
              "// then passes the result of the previous step as the input to the next step.\n",
              "function _uploadFilesContinue(outputId) {\n",
              "  const outputElement = document.getElementById(outputId);\n",
              "  const steps = outputElement.steps;\n",
              "\n",
              "  const next = steps.next(outputElement.lastPromiseValue);\n",
              "  return Promise.resolve(next.value.promise).then((value) => {\n",
              "    // Cache the last promise value to make it available to the next\n",
              "    // step of the generator.\n",
              "    outputElement.lastPromiseValue = value;\n",
              "    return next.value.response;\n",
              "  });\n",
              "}\n",
              "\n",
              "/**\n",
              " * Generator function which is called between each async step of the upload\n",
              " * process.\n",
              " * @param {string} inputId Element ID of the input file picker element.\n",
              " * @param {string} outputId Element ID of the output display.\n",
              " * @return {!Iterable<!Object>} Iterable of next steps.\n",
              " */\n",
              "function* uploadFilesStep(inputId, outputId) {\n",
              "  const inputElement = document.getElementById(inputId);\n",
              "  inputElement.disabled = false;\n",
              "\n",
              "  const outputElement = document.getElementById(outputId);\n",
              "  outputElement.innerHTML = '';\n",
              "\n",
              "  const pickedPromise = new Promise((resolve) => {\n",
              "    inputElement.addEventListener('change', (e) => {\n",
              "      resolve(e.target.files);\n",
              "    });\n",
              "  });\n",
              "\n",
              "  const cancel = document.createElement('button');\n",
              "  inputElement.parentElement.appendChild(cancel);\n",
              "  cancel.textContent = 'Cancel upload';\n",
              "  const cancelPromise = new Promise((resolve) => {\n",
              "    cancel.onclick = () => {\n",
              "      resolve(null);\n",
              "    };\n",
              "  });\n",
              "\n",
              "  // Wait for the user to pick the files.\n",
              "  const files = yield {\n",
              "    promise: Promise.race([pickedPromise, cancelPromise]),\n",
              "    response: {\n",
              "      action: 'starting',\n",
              "    }\n",
              "  };\n",
              "\n",
              "  cancel.remove();\n",
              "\n",
              "  // Disable the input element since further picks are not allowed.\n",
              "  inputElement.disabled = true;\n",
              "\n",
              "  if (!files) {\n",
              "    return {\n",
              "      response: {\n",
              "        action: 'complete',\n",
              "      }\n",
              "    };\n",
              "  }\n",
              "\n",
              "  for (const file of files) {\n",
              "    const li = document.createElement('li');\n",
              "    li.append(span(file.name, {fontWeight: 'bold'}));\n",
              "    li.append(span(\n",
              "        `(${file.type || 'n/a'}) - ${file.size} bytes, ` +\n",
              "        `last modified: ${\n",
              "            file.lastModifiedDate ? file.lastModifiedDate.toLocaleDateString() :\n",
              "                                    'n/a'} - `));\n",
              "    const percent = span('0% done');\n",
              "    li.appendChild(percent);\n",
              "\n",
              "    outputElement.appendChild(li);\n",
              "\n",
              "    const fileDataPromise = new Promise((resolve) => {\n",
              "      const reader = new FileReader();\n",
              "      reader.onload = (e) => {\n",
              "        resolve(e.target.result);\n",
              "      };\n",
              "      reader.readAsArrayBuffer(file);\n",
              "    });\n",
              "    // Wait for the data to be ready.\n",
              "    let fileData = yield {\n",
              "      promise: fileDataPromise,\n",
              "      response: {\n",
              "        action: 'continue',\n",
              "      }\n",
              "    };\n",
              "\n",
              "    // Use a chunked sending to avoid message size limits. See b/62115660.\n",
              "    let position = 0;\n",
              "    do {\n",
              "      const length = Math.min(fileData.byteLength - position, MAX_PAYLOAD_SIZE);\n",
              "      const chunk = new Uint8Array(fileData, position, length);\n",
              "      position += length;\n",
              "\n",
              "      const base64 = btoa(String.fromCharCode.apply(null, chunk));\n",
              "      yield {\n",
              "        response: {\n",
              "          action: 'append',\n",
              "          file: file.name,\n",
              "          data: base64,\n",
              "        },\n",
              "      };\n",
              "\n",
              "      let percentDone = fileData.byteLength === 0 ?\n",
              "          100 :\n",
              "          Math.round((position / fileData.byteLength) * 100);\n",
              "      percent.textContent = `${percentDone}% done`;\n",
              "\n",
              "    } while (position < fileData.byteLength);\n",
              "  }\n",
              "\n",
              "  // All done.\n",
              "  yield {\n",
              "    response: {\n",
              "      action: 'complete',\n",
              "    }\n",
              "  };\n",
              "}\n",
              "\n",
              "scope.google = scope.google || {};\n",
              "scope.google.colab = scope.google.colab || {};\n",
              "scope.google.colab._files = {\n",
              "  _uploadFiles,\n",
              "  _uploadFilesContinue,\n",
              "};\n",
              "})(self);\n",
              "</script> "
            ]
          },
          "metadata": {}
        },
        {
          "output_type": "stream",
          "name": "stdout",
          "text": [
            "Saving 0_and_1.csv to 0_and_1 (1).csv\n"
          ]
        }
      ]
    },
    {
      "cell_type": "code",
      "source": [
        "# import required libraries\n",
        "import numpy as np\n",
        "import cupy as cp\n",
        "import matplotlib.pyplot as plt\n",
        "np.random.seed(42)"
      ],
      "metadata": {
        "id": "Hl7Xc5yMDowz"
      },
      "execution_count": 136,
      "outputs": []
    },
    {
      "cell_type": "code",
      "source": [
        "# Read the data from the CSV file using NumPy\n",
        "data =np.genfromtxt(\"0_and_1.csv\", delimiter=',', skip_header=1)\n",
        "\n",
        "# Extract the target variable Y and reshape it\n",
        "Y=data[:,0]\n",
        "Y=np.reshape(Y,(1,Y.shape[0]))\n",
        "\n",
        "# Remove the label column from X and transpose the matrix\n",
        "X =data[:,1:].T"
      ],
      "metadata": {
        "id": "jQ43NwG_ufUw"
      },
      "execution_count": 137,
      "outputs": []
    },
    {
      "cell_type": "code",
      "source": [
        "# Print the shape of Y and X\n",
        "print(\"X\", X.shape)\n",
        "print(\"Y\", Y.shape)"
      ],
      "metadata": {
        "colab": {
          "base_uri": "https://localhost:8080/"
        },
        "id": "tys0pHzid8mr",
        "outputId": "7113032f-f3ff-4228-e686-3414474b8be5"
      },
      "execution_count": 138,
      "outputs": [
        {
          "output_type": "stream",
          "name": "stdout",
          "text": [
            "X (784, 8816)\n",
            "Y (1, 8816)\n"
          ]
        }
      ]
    },
    {
      "cell_type": "code",
      "source": [
        "# Create a figure to plot the images\n",
        "fig = plt.figure(figsize=(8, 8))\n",
        "columns = 4\n",
        "rows = 5\n",
        "\n",
        "# Loop through and display each image\n",
        "for i in range(1, columns * rows + 1):\n",
        "    X1 = X[:,i] # Extract the i-th column (i-th image)\n",
        "    X1 = np.reshape(X1,(28,28))  # Reshape the flattened image to (28, 28)\n",
        "    fig.add_subplot(rows, columns, i)  # Add a subplot to the figure\n",
        "    plt.imshow(X1, cmap='gray')  # Display the image using a grayscale colormap\n",
        "\n",
        "# Show the plot\n",
        "plt.show()"
      ],
      "metadata": {
        "colab": {
          "base_uri": "https://localhost:8080/",
          "height": 680
        },
        "id": "J1NDXUO6dzol",
        "outputId": "68355a81-38bb-403e-d124-9ae9ad0a59ae"
      },
      "execution_count": 139,
      "outputs": [
        {
          "output_type": "display_data",
          "data": {
            "text/plain": [
              "<Figure size 800x800 with 20 Axes>"
            ],
            "image/png": "[encoded data removed]"
          },
          "metadata": {}
        }
      ]
    },
    {
      "cell_type": "code",
      "source": [
        "import numpy as np\n",
        "\n",
        "def sigmoid(x, derivative=False):\n",
        "    \"\"\"\n",
        "    Compute the sigmoid function or its derivative.\n",
        "\n",
        "    :param x: Input value or array.\n",
        "    :param derivative: If True, compute the derivative of the sigmoid function.\n",
        "    :return: Sigmoid function or its derivative.\n",
        "    \"\"\"\n",
        "    if derivative:\n",
        "      return (1+np.exp(-x))**(-2)*(np.exp(-x))\n",
        "    return 1/(1+np.exp(-x))"
      ],
      "metadata": {
        "id": "H6YUnxUid9ad"
      },
      "execution_count": 140,
      "outputs": []
    },
    {
      "cell_type": "code",
      "source": [
        "print(sigmoid(0))                   # Output: 0.5\n",
        "print(sigmoid(0, derivative=True))  # Output: 0.25"
      ],
      "metadata": {
        "colab": {
          "base_uri": "https://localhost:8080/"
        },
        "id": "ASHVvoY7lr5A",
        "outputId": "beb18faf-3341-4b16-c7e5-86f8d0d983b5"
      },
      "execution_count": 141,
      "outputs": [
        {
          "output_type": "stream",
          "name": "stdout",
          "text": [
            "0.5\n",
            "0.25\n"
          ]
        }
      ]
    },
    {
      "cell_type": "code",
      "source": [
        "def network_architecture(X, Y):\n",
        "    # Number of nodes in the input layer\n",
        "    n_x = 784\n",
        "    # Number of nodes in the hidden layer\n",
        "    n_h = 10\n",
        "    # Number of nodes in the output layer\n",
        "    n_y = 1\n",
        "    return (n_x, n_h, n_y)\n",
        "\n",
        "# Get the network architecture dimensions\n",
        "n_x, n_h, n_y = network_architecture(X, Y)\n",
        "\n",
        "# Print the number of nodes in each layer\n",
        "print(\"Number of nodes in input layer (n_x):\", n_x)\n",
        "print(\"Number of nodes in hidden layer (n_h):\", n_h)\n",
        "print(\"Number of nodes in output layer (n_y):\", n_y)"
      ],
      "metadata": {
        "colab": {
          "base_uri": "https://localhost:8080/"
        },
        "id": "fKHXfkheltty",
        "outputId": "70a66d0d-6543-42fd-ef5f-b6d99c3dc02c"
      },
      "execution_count": 142,
      "outputs": [
        {
          "output_type": "stream",
          "name": "stdout",
          "text": [
            "Number of nodes in input layer (n_x): 784\n",
            "Number of nodes in hidden layer (n_h): 10\n",
            "Number of nodes in output layer (n_y): 1\n"
          ]
        }
      ]
    },
    {
      "cell_type": "code",
      "source": [
        "def define_network_parameters(n_x, n_h, n_y):\n",
        "    # Initialize weights and biases for the first layer\n",
        "    W1 = np.random.randn(n_h, n_x) * 0.01  # Random initialization with small values\n",
        "    b1 = np.zeros((n_h,1))  # Initialize biases with zeros\n",
        "\n",
        "    # Initialize weights and biases for the second layer\n",
        "    W2 = np.random.randn(n_y, n_h) * 0.01  # Random initialization with small values\n",
        "    b2 = np.zeros((n_y,1))  # Initialize biases with zeros\n",
        "\n",
        "    # Store the parameters in a dictionary\n",
        "    parameters = {\"W1\": W1, \"b1\": b1, \"W2\": W2, \"b2\": b2}\n",
        "\n",
        "    return parameters"
      ],
      "metadata": {
        "id": "qqHMw57Dlvx4"
      },
      "execution_count": 143,
      "outputs": []
    },
    {
      "cell_type": "code",
      "source": [
        "# Get the neural network architecture dimensions\n",
        "n_x, n_h, n_y = network_architecture(X, Y)\n",
        "\n",
        "# Define the network parameters using the obtained dimensions\n",
        "params = define_network_parameters(n_x, n_h, n_y)"
      ],
      "metadata": {
        "id": "Um4JKw0tlxdh"
      },
      "execution_count": 144,
      "outputs": []
    },
    {
      "cell_type": "code",
      "source": [
        "# Recall that Z = W*X + b & A = g(Z)\n",
        "\n",
        "# Define the forward propagation function\n",
        "def forward_propagation(X, params):\n",
        "    # Calculate the weighted sum and apply activation function for the first layer\n",
        "    Z1 = np.dot(params[\"W1\"],X)+params[\"b1\"]\n",
        "    A1 = sigmoid(Z1)\n",
        "\n",
        "    # Calculate the weighted sum and apply activation function for the second layer\n",
        "    Z2 =  np.dot(params[\"W2\"],A1)#+params[\"b2\"]\n",
        "    A2 = sigmoid(Z2)\n",
        "\n",
        "    # Return the calculated intermediate results\n",
        "    return {\"Z1\": Z1, \"A1\": A1, \"Z2\": Z2, \"A2\": A2}"
      ],
      "metadata": {
        "id": "S_GpnoJzlyyb"
      },
      "execution_count": 145,
      "outputs": []
    },
    {
      "cell_type": "code",
      "source": [
        "# Perform forward propagation\n",
        "refor = forward_propagation(X, params)\n",
        "\n",
        "# Print the shapes of the intermediate variables\n",
        "print(\"Z1\", refor['Z1'].shape)\n",
        "print(\"A1\", refor['A1'].shape)\n",
        "print(\"Z2\", refor['Z2'].shape)\n",
        "print(\"A2\", refor['A2'].shape)"
      ],
      "metadata": {
        "colab": {
          "base_uri": "https://localhost:8080/"
        },
        "id": "_9m7LX9El06P",
        "outputId": "960dd27f-c292-4044-9ae7-d16214d2379d"
      },
      "execution_count": 146,
      "outputs": [
        {
          "output_type": "stream",
          "name": "stdout",
          "text": [
            "Z1 (10, 8816)\n",
            "A1 (10, 8816)\n",
            "Z2 (1, 8816)\n",
            "A2 (1, 8816)\n"
          ]
        }
      ]
    },
    {
      "cell_type": "code",
      "source": [
        "def backward_propagation(params, activations, X, Y):\n",
        "    \"\"\"\n",
        "    Compute the derivatives of the loss with respect to the parameters using backpropagation.\n",
        "\n",
        "    :param params: Dictionary containing the current parameters.\n",
        "    :param activations: Dictionary containing the intermediate activations during forward propagation.\n",
        "    :param X: Input data.\n",
        "    :param Y: True labels.\n",
        "    :return: Dictionary containing the derivatives of the loss with respect to the parameters.\n",
        "    \"\"\"\n",
        "    m = X.shape[1]  # Number of training examples\n",
        "    b1, b2, W1, W2 = params['b1'], params['b2'], params['W1'], params['W2']\n",
        "    Z1, Z2, A1, A2 = activations['Z1'], activations['Z2'], activations['A1'], activations['A2']\n",
        "\n",
        "    # Output layer\n",
        "    dZ2 = (A2 - Y) * sigmoid(Z2, derivative=True) / m\n",
        "    dW2 = np.dot(dZ2, A1.T)\n",
        "    db2 = np.sum(dZ2, axis=1, keepdims=True)\n",
        "\n",
        "    # Hidden layer\n",
        "    dA1 = np.dot(W2.T, dZ2)  # shape: (10, m)\n",
        "    dZ1 = dA1 * sigmoid(Z1, derivative=True)\n",
        "    dW1 = np.dot(dZ1, X.T)\n",
        "    db1 = np.sum(dZ1, axis=1, keepdims=True)\n",
        "\n",
        "    return {\"dW1\": dW1, \"db1\": db1, \"dW2\": dW2, \"db2\": db2}\n",
        "\n",
        "\n",
        "def update_parameters(params, derivatives, alpha=0.1):\n",
        "    \"\"\"\n",
        "    Update the parameters using gradient descent.\n",
        "\n",
        "    :param params: Dictionary containing the current parameters.\n",
        "    :param derivatives: Dictionary containing the derivatives of the loss with respect to the parameters.\n",
        "    :param alpha: Learning rate.\n",
        "    :return: Updated parameters.\n",
        "    \"\"\"\n",
        "    params['W1'] = params['W1']-alpha*derivatives['dW1']\n",
        "    params['b1'] = params['b1']-alpha*derivatives['db1']\n",
        "    params['W2'] = params['W2']-alpha*derivatives['dW2']\n",
        "    params['b2'] = params['b2']-alpha*derivatives['db2']\n",
        "    return params"
      ],
      "metadata": {
        "id": "yPUY7wUbl3pQ"
      },
      "execution_count": 147,
      "outputs": []
    },
    {
      "cell_type": "code",
      "source": [
        "# Update the parameters using gradient descent and print the updated parameters\n",
        "\n",
        "# Calculate the derivatives using backward propagation\n",
        "derivatives = backward_propagation(params, refor, X, Y)\n",
        "\n",
        "# Update the parameters using the derivatives and learning rate\n",
        "params = update_parameters(params, derivatives)\n",
        "\n",
        "# Print the updated parameters\n",
        "print(params)"
      ],
      "metadata": {
        "id": "8gYZ3R4tl5QT",
        "colab": {
          "base_uri": "https://localhost:8080/"
        },
        "outputId": "eca0b7b6-faf6-4715-c472-5bcab7ab1c7c"
      },
      "execution_count": 148,
      "outputs": [
        {
          "output_type": "stream",
          "name": "stdout",
          "text": [
            "{'W1': array([[ 0.00496714, -0.00138264,  0.00647689, ..., -0.01335344,\n",
            "         0.00380198,  0.00610586],\n",
            "       [ 0.0055979 ,  0.01080781,  0.00833922, ..., -0.00281328,\n",
            "         0.00066991,  0.00515939],\n",
            "       [-0.01562546, -0.00529053,  0.00794265, ..., -0.00392013,\n",
            "         0.01059936,  0.00617006],\n",
            "       ...,\n",
            "       [-0.00711462, -0.00384457, -0.00411025, ...,  0.00493977,\n",
            "        -0.00362348,  0.00741822],\n",
            "       [-0.00091968, -0.01081914, -0.00403288, ...,  0.00324658,\n",
            "         0.00142991, -0.01726011],\n",
            "       [-0.00270367, -0.00027384,  0.01953107, ..., -0.00077821,\n",
            "        -0.00275951, -0.00361724]]), 'b1': array([[ 4.43034860e-08],\n",
            "       [-3.27016527e-07],\n",
            "       [ 1.08047235e-07],\n",
            "       [ 9.03683585e-08],\n",
            "       [-3.29158238e-07],\n",
            "       [ 2.02600683e-06],\n",
            "       [ 4.55149759e-07],\n",
            "       [ 1.29735903e-07],\n",
            "       [-6.49010563e-08],\n",
            "       [-3.34558681e-07]]), 'W2': array([[ 0.00504884, -0.00432209,  0.00641367, -0.0030236 ,  0.01701768,\n",
            "         0.01792251, -0.01160845,  0.00188121, -0.00712677, -0.00313176]]), 'b2': array([[0.00072787]])}\n"
          ]
        }
      ]
    },
    {
      "cell_type": "code",
      "source": [
        "def compute_error(Predicted, Actual):\n",
        "    \"\"\"\n",
        "    Compute the mean squared error between predicted values and actual values.\n",
        "\n",
        "    :param Predicted: Predicted values.\n",
        "    :param Actual: Actual values.\n",
        "    :return: Mean squared error.\n",
        "    \"\"\"\n",
        "\n",
        "    return np.mean(1/2*(Predicted-Actual)**2)"
      ],
      "metadata": {
        "id": "ZGKJMsmml7Jz"
      },
      "execution_count": 149,
      "outputs": []
    },
    {
      "cell_type": "markdown",
      "source": [],
      "metadata": {
        "id": "AINuptHiTqOQ"
      }
    },
    {
      "cell_type": "code",
      "source": [
        "def neural_network(X, Y, num_iterations=10):\n",
        "    \"\"\"\n",
        "    Train a neural network model using gradient descent.\n",
        "\n",
        "    :param X: Input data.\n",
        "    :param Y: Target data.\n",
        "    :param num_iterations: Number of iterations for training.\n",
        "    :return: Trained parameters and cost history.\n",
        "    \"\"\"\n",
        "    n_x = X.shape[0]\n",
        "    n_y = Y.shape[0]\n",
        "    cost = []\n",
        "    params = define_network_parameters(n_x,10,n_y)\n",
        "    for i in range(num_iterations):\n",
        "      activations = forward_propagation(X,params)\n",
        "      cost.append(compute_error(activations['A2'],Y))\n",
        "      derivatives = backward_propagation(params,activations,X,Y)\n",
        "      params = update_parameters(params,derivatives)\n",
        "    return params,cost\n",
        "\n",
        "\n",
        ""
      ],
      "metadata": {
        "id": "MmbDpQiSl8xx"
      },
      "execution_count": 150,
      "outputs": []
    },
    {
      "cell_type": "code",
      "source": [
        "# Train the neural network model and retrieve the trained parameters and cost history\n",
        "model, cost = neural_network(X, Y, num_iterations=100)\n",
        "\n",
        "# Plot the cost history\n",
        "\n",
        "plt.figure(figsize=(8, 5))\n",
        "plt.plot(range(len(cost)), cost, label='Cost')\n",
        "plt.xlabel('Iterations')\n",
        "plt.ylabel('Cost')\n",
        "plt.title('Training Loss Over Iterations')\n",
        "plt.legend()\n",
        "plt.show()"
      ],
      "metadata": {
        "colab": {
          "base_uri": "https://localhost:8080/",
          "height": 487
        },
        "id": "kg4M4WbfmAN8",
        "outputId": "c2f1a32e-9d50-44e9-a883-6512b99de3f8"
      },
      "execution_count": 151,
      "outputs": [
        {
          "output_type": "display_data",
          "data": {
            "text/plain": [
              "<Figure size 800x500 with 1 Axes>"
            ],
            "image/png": "[encoded data removed]"
          },
          "metadata": {}
        }
      ]
    },
    {
      "cell_type": "code",
      "source": [
        "def predict(parameters, X):\n",
        "    # Perform forward propagation to get the results\n",
        "    results = forward_propagation(X, parameters)\n",
        "\n",
        "    # Round the predictions to 0 or 1\n",
        "    predictions = np.around(results['A2'])\n",
        "\n",
        "    return predictions\n",
        "\n",
        "# Make predictions using the trained model\n",
        "predictions = predict(model, X)"
      ],
      "metadata": {
        "id": "MJA2scuLmCIF"
      },
      "execution_count": 152,
      "outputs": []
    },
    {
      "cell_type": "code",
      "source": [
        "# Initialize an empty list to store the indices of misclassified examples\n",
        "Error = []\n",
        "\n",
        "Error = [i for i in range(Y.shape[1]) if predictions[0,i] != Y[0,i]]\n",
        "\n",
        "# Print the indices of misclassified examples\n",
        "print(\"Indices of misclassified examples:\", Error)\n",
        "\n",
        "# Calculate the accuracy by subtracting the ratio of misclassified examples from 1 and multiplying by 100\n",
        "accuracy = ((X.shape[0] - len(Error)) / X.shape[0]) * 100\n",
        "\n",
        "# Print the accuracy as a percentage\n",
        "print(\"Accuracy: {:f}%\".format(accuracy))"
      ],
      "metadata": {
        "colab": {
          "base_uri": "https://localhost:8080/"
        },
        "id": "i2zHtuu_mDwc",
        "outputId": "af9d61dc-053a-4906-c7e0-57ad6974ce1a"
      },
      "execution_count": 153,
      "outputs": [
        {
          "output_type": "stream",
          "name": "stdout",
          "text": [
            "Indices of misclassified examples: [332, 1370, 7653, 8199, 8215]\n",
            "Accuracy: 99.362245%\n"
          ]
        }
      ]
    },
    {
      "cell_type": "code",
      "source": [
        "#Display misclassified images\n",
        "for i in range(len(Error)):\n",
        "    idx = int(Error[i])  # ensure idx is int\n",
        "    print(f\"Index {i} -> Image idx: {idx}\")\n",
        "\n",
        "    X1 = np.reshape(X[:, idx], (28, 28))\n",
        "\n",
        "    plt.figure()  # create a new figure per image\n",
        "    plt.imshow(X1, cmap='gray')\n",
        "    plt.title(f\"Image at index {idx}\")\n",
        "    plt.axis('off')\n",
        "\n",
        "plt.show()"
      ],
      "metadata": {
        "id": "XpdAMRr5mGi3",
        "colab": {
          "base_uri": "https://localhost:8080/",
          "height": 1000
        },
        "outputId": "8d155f90-12a9-40bc-99ef-2da70ace8f02"
      },
      "execution_count": 154,
      "outputs": [
        {
          "output_type": "stream",
          "name": "stdout",
          "text": [
            "Index 0 -> Image idx: 332\n",
            "Index 1 -> Image idx: 1370\n",
            "Index 2 -> Image idx: 7653\n",
            "Index 3 -> Image idx: 8199\n",
            "Index 4 -> Image idx: 8215\n"
          ]
        },
        {
          "output_type": "display_data",
          "data": {
            "text/plain": [
              "<Figure size 640x480 with 1 Axes>"
            ],
            "image/png": "[encoded data removed]"
          },
          "metadata": {}
        },
        {
          "output_type": "display_data",
          "data": {
            "text/plain": [
              "<Figure size 640x480 with 1 Axes>"
            ],
            "image/png": "[encoded data removed]"
          },
          "metadata": {}
        },
        {
          "output_type": "display_data",
          "data": {
            "text/plain": [
              "<Figure size 640x480 with 1 Axes>"
            ],
            "image/png": "[encoded data removed]"
          },
          "metadata": {}
        },
        {
          "output_type": "display_data",
          "data": {
            "text/plain": [
              "<Figure size 640x480 with 1 Axes>"
            ],
            "image/png": "[encoded data removed]"
          },
          "metadata": {}
        },
        {
          "output_type": "display_data",
          "data": {
            "text/plain": [
              "<Figure size 640x480 with 1 Axes>"
            ],
            "image/png": "[encoded data removed]"
          },
          "metadata": {}
        }
      ]
    }
  ]
}